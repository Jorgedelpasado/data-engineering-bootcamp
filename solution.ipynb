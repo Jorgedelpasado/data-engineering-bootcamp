{
 "cells": [
  {
   "cell_type": "markdown",
   "id": "45eda3bd",
   "metadata": {},
   "source": [
    "# Technical challenge\n",
    "## Summary"
   ]
  },
  {
   "cell_type": "markdown",
   "id": "db6afe03",
   "metadata": {},
   "source": [
    "This notebook contains all the steps I took for completing the part 2 of the technical challenge. The code written here is the source for the report created."
   ]
  },
  {
   "cell_type": "markdown",
   "id": "37c7f908",
   "metadata": {},
   "source": [
    "## Code\n",
    "To get a look at the structure of the data, a sample loaded into a data frame:"
   ]
  },
  {
   "cell_type": "code",
   "execution_count": 1,
   "id": "1b8aa824",
   "metadata": {
    "scrolled": false
   },
   "outputs": [
    {
     "data": {
      "text/html": [
       "<div>\n",
       "<style scoped>\n",
       "    .dataframe tbody tr th:only-of-type {\n",
       "        vertical-align: middle;\n",
       "    }\n",
       "\n",
       "    .dataframe tbody tr th {\n",
       "        vertical-align: top;\n",
       "    }\n",
       "\n",
       "    .dataframe thead th {\n",
       "        text-align: right;\n",
       "    }\n",
       "</style>\n",
       "<table border=\"1\" class=\"dataframe\">\n",
       "  <thead>\n",
       "    <tr style=\"text-align: right;\">\n",
       "      <th></th>\n",
       "      <th>producto</th>\n",
       "      <th>presentacion</th>\n",
       "      <th>marca</th>\n",
       "      <th>categoria</th>\n",
       "      <th>catalogo</th>\n",
       "      <th>precio</th>\n",
       "      <th>fechaRegistro</th>\n",
       "      <th>cadenaComercial</th>\n",
       "      <th>giro</th>\n",
       "      <th>nombreComercial</th>\n",
       "      <th>direccion</th>\n",
       "      <th>estado</th>\n",
       "      <th>municipio</th>\n",
       "      <th>latitud</th>\n",
       "      <th>longitud</th>\n",
       "    </tr>\n",
       "  </thead>\n",
       "  <tbody>\n",
       "    <tr>\n",
       "      <th>0</th>\n",
       "      <td>CUADERNO FORMA ITALIANA</td>\n",
       "      <td>96 HOJAS PASTA DURA. CUADRICULA CHICA</td>\n",
       "      <td>ESTRELLA</td>\n",
       "      <td>MATERIAL ESCOLAR</td>\n",
       "      <td>UTILES ESCOLARES</td>\n",
       "      <td>25.9</td>\n",
       "      <td>2011-05-18 00:00:00.000</td>\n",
       "      <td>ABASTECEDORA LUMEN</td>\n",
       "      <td>PAPELERIAS</td>\n",
       "      <td>ABASTECEDORA LUMEN SUCURSAL VILLA COAPA</td>\n",
       "      <td>CANNES No. 6 ESQ. CANAL DE MIRAMONTES</td>\n",
       "      <td>DISTRITO FEDERAL</td>\n",
       "      <td>TLALPAN</td>\n",
       "      <td>19.29699</td>\n",
       "      <td>-99.125417</td>\n",
       "    </tr>\n",
       "    <tr>\n",
       "      <th>1</th>\n",
       "      <td>CRAYONES</td>\n",
       "      <td>CAJA 12 CERAS. JUMBO. C.B. 201423</td>\n",
       "      <td>CRAYOLA</td>\n",
       "      <td>MATERIAL ESCOLAR</td>\n",
       "      <td>UTILES ESCOLARES</td>\n",
       "      <td>27.5</td>\n",
       "      <td>2011-05-18 00:00:00.000</td>\n",
       "      <td>ABASTECEDORA LUMEN</td>\n",
       "      <td>PAPELERIAS</td>\n",
       "      <td>ABASTECEDORA LUMEN SUCURSAL VILLA COAPA</td>\n",
       "      <td>CANNES No. 6 ESQ. CANAL DE MIRAMONTES</td>\n",
       "      <td>DISTRITO FEDERAL</td>\n",
       "      <td>TLALPAN</td>\n",
       "      <td>19.29699</td>\n",
       "      <td>-99.125417</td>\n",
       "    </tr>\n",
       "    <tr>\n",
       "      <th>2</th>\n",
       "      <td>CRAYONES</td>\n",
       "      <td>CAJA 12 CERAS. TAMANO REGULAR C.B. 201034</td>\n",
       "      <td>CRAYOLA</td>\n",
       "      <td>MATERIAL ESCOLAR</td>\n",
       "      <td>UTILES ESCOLARES</td>\n",
       "      <td>13.9</td>\n",
       "      <td>2011-05-18 00:00:00.000</td>\n",
       "      <td>ABASTECEDORA LUMEN</td>\n",
       "      <td>PAPELERIAS</td>\n",
       "      <td>ABASTECEDORA LUMEN SUCURSAL VILLA COAPA</td>\n",
       "      <td>CANNES No. 6 ESQ. CANAL DE MIRAMONTES</td>\n",
       "      <td>DISTRITO FEDERAL</td>\n",
       "      <td>TLALPAN</td>\n",
       "      <td>19.29699</td>\n",
       "      <td>-99.125417</td>\n",
       "    </tr>\n",
       "    <tr>\n",
       "      <th>3</th>\n",
       "      <td>COLORES DE MADERA</td>\n",
       "      <td>CAJA 12 PIEZAS LARGO. TRIANGULAR. C.B. 640646</td>\n",
       "      <td>PINCELIN</td>\n",
       "      <td>MATERIAL ESCOLAR</td>\n",
       "      <td>UTILES ESCOLARES</td>\n",
       "      <td>46.9</td>\n",
       "      <td>2011-05-18 00:00:00.000</td>\n",
       "      <td>ABASTECEDORA LUMEN</td>\n",
       "      <td>PAPELERIAS</td>\n",
       "      <td>ABASTECEDORA LUMEN SUCURSAL VILLA COAPA</td>\n",
       "      <td>CANNES No. 6 ESQ. CANAL DE MIRAMONTES</td>\n",
       "      <td>DISTRITO FEDERAL</td>\n",
       "      <td>TLALPAN</td>\n",
       "      <td>19.29699</td>\n",
       "      <td>-99.125417</td>\n",
       "    </tr>\n",
       "    <tr>\n",
       "      <th>4</th>\n",
       "      <td>COLOR LARGO</td>\n",
       "      <td>CAJA 36 PIEZAS. CON SACAPUNTAS. 68-4036</td>\n",
       "      <td>CRAYOLA</td>\n",
       "      <td>MATERIAL ESCOLAR</td>\n",
       "      <td>UTILES ESCOLARES</td>\n",
       "      <td>115.0</td>\n",
       "      <td>2011-05-18 00:00:00.000</td>\n",
       "      <td>ABASTECEDORA LUMEN</td>\n",
       "      <td>PAPELERIAS</td>\n",
       "      <td>ABASTECEDORA LUMEN SUCURSAL VILLA COAPA</td>\n",
       "      <td>CANNES No. 6 ESQ. CANAL DE MIRAMONTES</td>\n",
       "      <td>DISTRITO FEDERAL</td>\n",
       "      <td>TLALPAN</td>\n",
       "      <td>19.29699</td>\n",
       "      <td>-99.125417</td>\n",
       "    </tr>\n",
       "  </tbody>\n",
       "</table>\n",
       "</div>"
      ],
      "text/plain": [
       "                  producto                                   presentacion  \\\n",
       "0  CUADERNO FORMA ITALIANA          96 HOJAS PASTA DURA. CUADRICULA CHICA   \n",
       "1                 CRAYONES              CAJA 12 CERAS. JUMBO. C.B. 201423   \n",
       "2                 CRAYONES      CAJA 12 CERAS. TAMANO REGULAR C.B. 201034   \n",
       "3        COLORES DE MADERA  CAJA 12 PIEZAS LARGO. TRIANGULAR. C.B. 640646   \n",
       "4              COLOR LARGO        CAJA 36 PIEZAS. CON SACAPUNTAS. 68-4036   \n",
       "\n",
       "      marca         categoria          catalogo  precio  \\\n",
       "0  ESTRELLA  MATERIAL ESCOLAR  UTILES ESCOLARES    25.9   \n",
       "1   CRAYOLA  MATERIAL ESCOLAR  UTILES ESCOLARES    27.5   \n",
       "2   CRAYOLA  MATERIAL ESCOLAR  UTILES ESCOLARES    13.9   \n",
       "3  PINCELIN  MATERIAL ESCOLAR  UTILES ESCOLARES    46.9   \n",
       "4   CRAYOLA  MATERIAL ESCOLAR  UTILES ESCOLARES   115.0   \n",
       "\n",
       "             fechaRegistro     cadenaComercial        giro  \\\n",
       "0  2011-05-18 00:00:00.000  ABASTECEDORA LUMEN  PAPELERIAS   \n",
       "1  2011-05-18 00:00:00.000  ABASTECEDORA LUMEN  PAPELERIAS   \n",
       "2  2011-05-18 00:00:00.000  ABASTECEDORA LUMEN  PAPELERIAS   \n",
       "3  2011-05-18 00:00:00.000  ABASTECEDORA LUMEN  PAPELERIAS   \n",
       "4  2011-05-18 00:00:00.000  ABASTECEDORA LUMEN  PAPELERIAS   \n",
       "\n",
       "                           nombreComercial  \\\n",
       "0  ABASTECEDORA LUMEN SUCURSAL VILLA COAPA   \n",
       "1  ABASTECEDORA LUMEN SUCURSAL VILLA COAPA   \n",
       "2  ABASTECEDORA LUMEN SUCURSAL VILLA COAPA   \n",
       "3  ABASTECEDORA LUMEN SUCURSAL VILLA COAPA   \n",
       "4  ABASTECEDORA LUMEN SUCURSAL VILLA COAPA   \n",
       "\n",
       "                               direccion            estado  \\\n",
       "0  CANNES No. 6 ESQ. CANAL DE MIRAMONTES  DISTRITO FEDERAL   \n",
       "1  CANNES No. 6 ESQ. CANAL DE MIRAMONTES  DISTRITO FEDERAL   \n",
       "2  CANNES No. 6 ESQ. CANAL DE MIRAMONTES  DISTRITO FEDERAL   \n",
       "3  CANNES No. 6 ESQ. CANAL DE MIRAMONTES  DISTRITO FEDERAL   \n",
       "4  CANNES No. 6 ESQ. CANAL DE MIRAMONTES  DISTRITO FEDERAL   \n",
       "\n",
       "                                  municipio   latitud   longitud  \n",
       "0  TLALPAN                                   19.29699 -99.125417  \n",
       "1  TLALPAN                                   19.29699 -99.125417  \n",
       "2  TLALPAN                                   19.29699 -99.125417  \n",
       "3  TLALPAN                                   19.29699 -99.125417  \n",
       "4  TLALPAN                                   19.29699 -99.125417  "
      ]
     },
     "execution_count": 1,
     "metadata": {},
     "output_type": "execute_result"
    }
   ],
   "source": [
    "import matplotlib\n",
    "import pandas as pd\n",
    "\n",
    "df = pd.read_csv('data/sample.csv')\n",
    "df.head()"
   ]
  },
  {
   "cell_type": "markdown",
   "id": "913ba0ab",
   "metadata": {},
   "source": [
    "We can easily count how many columns thera are in the sample and so for in the data by doing:"
   ]
  },
  {
   "cell_type": "code",
   "execution_count": 2,
   "id": "207aff9a",
   "metadata": {
    "scrolled": true
   },
   "outputs": [
    {
     "data": {
      "text/plain": [
       "15"
      ]
     },
     "execution_count": 2,
     "metadata": {},
     "output_type": "execute_result"
    }
   ],
   "source": [
    "len(df.columns)"
   ]
  },
  {
   "cell_type": "markdown",
   "id": "b9448f2f",
   "metadata": {},
   "source": [
    "For efficiency purposes, it is better if only the columns that are going to be used are stored in the data frame created, a test can be done with the sample data to give an idea of how much smaller the data frame is compared to when all the columns are included."
   ]
  },
  {
   "cell_type": "code",
   "execution_count": 3,
   "id": "dd4aad41",
   "metadata": {
    "scrolled": true
   },
   "outputs": [
    {
     "name": "stdout",
     "output_type": "stream",
     "text": [
      "<class 'pandas.core.frame.DataFrame'>\n",
      "RangeIndex: 1999 entries, 0 to 1998\n",
      "Columns: 15 entries, producto to longitud\n",
      "dtypes: float64(3), object(12)\n",
      "memory usage: 1.9 MB\n"
     ]
    }
   ],
   "source": [
    "df.info(verbose = False, memory_usage = 'deep')"
   ]
  },
  {
   "cell_type": "markdown",
   "id": "19a890cd",
   "metadata": {},
   "source": [
    "This time, only one column will be loaded in the data frame:"
   ]
  },
  {
   "cell_type": "code",
   "execution_count": 4,
   "id": "592cfad0",
   "metadata": {},
   "outputs": [
    {
     "name": "stdout",
     "output_type": "stream",
     "text": [
      "<class 'pandas.core.frame.DataFrame'>\n",
      "RangeIndex: 1999 entries, 0 to 1998\n",
      "Columns: 1 entries, cadenaComercial to cadenaComercial\n",
      "dtypes: object(1)\n",
      "memory usage: 142.6 KB\n"
     ]
    }
   ],
   "source": [
    "df = pd.read_csv('data/sample.csv', usecols = ['cadenaComercial'])\n",
    "df.info(verbose = False, memory_usage = 'deep')"
   ]
  },
  {
   "cell_type": "markdown",
   "id": "345e87f0",
   "metadata": {},
   "source": [
    "It can be seen that there is a significant reduction, of around *93%*, in the *memory usage*, from **1.9 MB** down to **142.6 KB**, this will have a huge impact for creating data frames to analize data in this project, mainly due to the volume of the data, over **20 GB**."
   ]
  },
  {
   "cell_type": "markdown",
   "id": "efc3df87",
   "metadata": {},
   "source": [
    "## How many commercial chains are monitored, and therefore, included in this database?\n",
    "In order to answer, it is necessary to count how manny distinct values there are in column **cadenaComercial**, for this it will be enough to import only that column into the data frame:"
   ]
  },
  {
   "cell_type": "code",
   "execution_count": 5,
   "id": "cb18d183",
   "metadata": {},
   "outputs": [],
   "source": [
    "df = pd.read_csv('data/all-data.csv', usecols = ['cadenaComercial'])"
   ]
  },
  {
   "cell_type": "markdown",
   "id": "8b75463e",
   "metadata": {},
   "source": [
    "The memory usage can be calculated by:"
   ]
  },
  {
   "cell_type": "code",
   "execution_count": 6,
   "id": "de61d0bf",
   "metadata": {},
   "outputs": [
    {
     "name": "stdout",
     "output_type": "stream",
     "text": [
      "<class 'pandas.core.frame.DataFrame'>\n",
      "RangeIndex: 62530715 entries, 0 to 62530714\n",
      "Columns: 1 entries, cadenaComercial to cadenaComercial\n",
      "dtypes: object(1)\n",
      "memory usage: 4.1 GB\n"
     ]
    }
   ],
   "source": [
    "df.info(verbose = False, memory_usage = 'deep')"
   ]
  },
  {
   "cell_type": "markdown",
   "id": "95a84a83",
   "metadata": {},
   "source": [
    "For the counting, pandas includes a method which will count the distinct values on an specified column:"
   ]
  },
  {
   "cell_type": "code",
   "execution_count": 7,
   "id": "eb3d2dd2",
   "metadata": {},
   "outputs": [
    {
     "data": {
      "text/plain": [
       "705"
      ]
     },
     "execution_count": 7,
     "metadata": {},
     "output_type": "execute_result"
    }
   ],
   "source": [
    "df['cadenaComercial'].nunique()"
   ]
  },
  {
   "cell_type": "markdown",
   "id": "87e3679b",
   "metadata": {},
   "source": [
    "After counting, the result is **705**, hence **there are 705 commercial chains monitored in the database**."
   ]
  },
  {
   "cell_type": "markdown",
   "id": "246d4d0a",
   "metadata": {},
   "source": [
    "## Which is the commercial chain with the highest number of monitored products?"
   ]
  },
  {
   "cell_type": "markdown",
   "id": "e01da36c",
   "metadata": {},
   "source": [
    "To further reduce memory usage, categorical data type can be used, that way the data frame will use even less memory. Again, *memory usage* is calculated to see how much less memory is used for the data frame:"
   ]
  },
  {
   "cell_type": "code",
   "execution_count": 8,
   "id": "6ce2e9db",
   "metadata": {},
   "outputs": [
    {
     "name": "stdout",
     "output_type": "stream",
     "text": [
      "<class 'pandas.core.frame.DataFrame'>\n",
      "RangeIndex: 62530715 entries, 0 to 62530714\n",
      "Columns: 1 entries, cadenaComercial to cadenaComercial\n",
      "dtypes: category(1)\n",
      "memory usage: 119.3 MB\n"
     ]
    }
   ],
   "source": [
    "df = pd.read_csv('data/all-data.csv', dtype = {'cadenaComercial': 'category'}, usecols = ['cadenaComercial'])\n",
    "\n",
    "df.info(verbose = False, memory_usage = 'deep')"
   ]
  },
  {
   "cell_type": "markdown",
   "id": "4049b517",
   "metadata": {},
   "source": [
    "For this question each row in the data set will be considered a *monitored product*, this is because even if two rows have the same value in the column **producto** they might have a different price or vendor, therefore they are monitored separately.\n",
    "\n",
    "Having that in mind, counting the occurrences of each commercial chain and taking the top one will answer the question."
   ]
  },
  {
   "cell_type": "code",
   "execution_count": 9,
   "id": "e1d970c9",
   "metadata": {
    "scrolled": true
   },
   "outputs": [
    {
     "data": {
      "text/plain": [
       "cadenaComercial        \n",
       "WAL-MART                   8643133\n",
       "BODEGA AURRERA             6765453\n",
       "SORIANA                    6546211\n",
       "MEGA COMERCIAL MEXICANA    4899509\n",
       "CHEDRAUI                   4221625\n",
       "dtype: int64"
      ]
     },
     "execution_count": 9,
     "metadata": {},
     "output_type": "execute_result"
    }
   ],
   "source": [
    "df.value_counts().head()"
   ]
  },
  {
   "cell_type": "markdown",
   "id": "80b55572",
   "metadata": {},
   "source": [
    "From the output, **WAL-MART** has the highest number of monitored products with a total of **8643133**, followed by *BODEGA AURRERA* with *6765453* records."
   ]
  },
  {
   "cell_type": "markdown",
   "id": "3995490a",
   "metadata": {},
   "source": [
    "## What are the top 10 monitored products by State?"
   ]
  },
  {
   "cell_type": "markdown",
   "id": "6460e017",
   "metadata": {},
   "source": [
    "This time two columns are needed in order to answer the question, these being **producto** and **estado**, the column **estado** is supposed to have at most **32** different values, so it is the perfect candidate to use the categorical data type:"
   ]
  },
  {
   "cell_type": "code",
   "execution_count": 10,
   "id": "fe49119e",
   "metadata": {},
   "outputs": [],
   "source": [
    "df = pd.read_csv('data/all-data.csv', dtype = {'estado': 'category'}, usecols = ['producto','estado'])"
   ]
  },
  {
   "cell_type": "markdown",
   "id": "2c314b2d",
   "metadata": {},
   "source": [
    "While exploring the newly created data frame, there are actually more than 32 different values, so by showing these values it is noticeable what the extra values are, apparently there are rows that instead of having the name of a state they simply have the string *'estado'* and a NaN \"value\"."
   ]
  },
  {
   "cell_type": "code",
   "execution_count": 11,
   "id": "6f793f57",
   "metadata": {},
   "outputs": [
    {
     "data": {
      "text/plain": [
       "{'AGUASCALIENTES',\n",
       " 'BAJA CALIFORNIA',\n",
       " 'BAJA CALIFORNIA SUR',\n",
       " 'CAMPECHE',\n",
       " 'CHIAPAS',\n",
       " 'CHIHUAHUA',\n",
       " 'COAHUILA DE ZARAGOZA',\n",
       " 'COLIMA',\n",
       " 'DISTRITO FEDERAL',\n",
       " 'DURANGO',\n",
       " 'GUANAJUATO',\n",
       " 'GUERRERO',\n",
       " 'HIDALGO',\n",
       " 'JALISCO',\n",
       " 'MICHOACÁN DE OCAMPO',\n",
       " 'MORELOS',\n",
       " 'MÉXICO',\n",
       " 'NAYARIT',\n",
       " 'NUEVO LEÓN',\n",
       " 'OAXACA',\n",
       " 'PUEBLA',\n",
       " 'QUERÉTARO',\n",
       " 'QUINTANA ROO',\n",
       " 'SAN LUIS POTOSÍ',\n",
       " 'SINALOA',\n",
       " 'SONORA',\n",
       " 'TABASCO',\n",
       " 'TAMAULIPAS',\n",
       " 'TLAXCALA',\n",
       " 'VERACRUZ DE IGNACIO DE LA LLAVE',\n",
       " 'YUCATÁN',\n",
       " 'ZACATECAS',\n",
       " 'estado',\n",
       " nan}"
      ]
     },
     "execution_count": 11,
     "metadata": {},
     "output_type": "execute_result"
    }
   ],
   "source": [
    "set(df['estado'])"
   ]
  },
  {
   "cell_type": "markdown",
   "id": "6a4de339",
   "metadata": {},
   "source": [
    "The index of the rows with the *'estado'* value can be found with the following code, (a 1 is added so it can match the indices when the data frame is defined again)."
   ]
  },
  {
   "cell_type": "code",
   "execution_count": 12,
   "id": "132d1eae",
   "metadata": {
    "scrolled": true
   },
   "outputs": [],
   "source": [
    "bad_indx = [x + 1 for x in list(df[df['estado'] == 'estado'].index)]"
   ]
  },
  {
   "cell_type": "markdown",
   "id": "323dc354",
   "metadata": {},
   "source": [
    "The data frame is defined again but this time it won't have the rows with corrupted data."
   ]
  },
  {
   "cell_type": "code",
   "execution_count": 13,
   "id": "5f7735fb",
   "metadata": {},
   "outputs": [],
   "source": [
    "df = pd.read_csv('data/all-data.csv', dtype = {'estado': 'category'}, usecols = ['producto','estado'], skiprows = bad_indx)"
   ]
  },
  {
   "cell_type": "markdown",
   "id": "cac55998",
   "metadata": {},
   "source": [
    "This is the *clean* data frame that will be used to find the answer, to start, pandas includes the method **groupby()** that can be combined with **value_counts()** to first group by a column and then get the count of unique values of anoter, this will return a Series object with the counts of products by state."
   ]
  },
  {
   "cell_type": "code",
   "execution_count": 14,
   "id": "1913a837",
   "metadata": {},
   "outputs": [
    {
     "data": {
      "text/plain": [
       "estado          producto               \n",
       "AGUASCALIENTES  FUD                        12005\n",
       "                DETERGENTE P/ROPA          10188\n",
       "                LECHE ULTRAPASTEURIZADA     9824\n",
       "                SHAMPOO                     9654\n",
       "                REFRESCO                    9481\n",
       "                                           ...  \n",
       "TAMAULIPAS      MONTABLES                      5\n",
       "                CASTAÑAS                       4\n",
       "                DATIL                          3\n",
       "                FRUTAS CUBIERTAS               3\n",
       "                PAMPANILLO                     1\n",
       "Name: producto, Length: 30360, dtype: int64"
      ]
     },
     "execution_count": 14,
     "metadata": {},
     "output_type": "execute_result"
    }
   ],
   "source": [
    "series = df.groupby('estado')['producto'].value_counts()\n",
    "series"
   ]
  },
  {
   "cell_type": "markdown",
   "id": "dca120f6",
   "metadata": {},
   "source": [
    "Finally, this object can be grouped by the column **estado** and with the use of the method **head()** the top ten products can be fetched."
   ]
  },
  {
   "cell_type": "code",
   "execution_count": 15,
   "id": "56090cce",
   "metadata": {},
   "outputs": [
    {
     "data": {
      "text/plain": [
       "estado          producto               \n",
       "AGUASCALIENTES  FUD                        12005\n",
       "                DETERGENTE P/ROPA          10188\n",
       "                LECHE ULTRAPASTEURIZADA     9824\n",
       "                SHAMPOO                     9654\n",
       "                REFRESCO                    9481\n",
       "                                           ...  \n",
       "TAMAULIPAS      CHILES EN LATA             16008\n",
       "                DESODORANTE                15994\n",
       "                CEREALES                   15398\n",
       "                PANTALLAS                  15180\n",
       "                MAYONESA                   15014\n",
       "Name: producto, Length: 320, dtype: int64"
      ]
     },
     "execution_count": 15,
     "metadata": {},
     "output_type": "execute_result"
    }
   ],
   "source": [
    "ans = series.groupby('estado').head(10)\n",
    "ans"
   ]
  },
  {
   "cell_type": "markdown",
   "id": "778ad8c6",
   "metadata": {},
   "source": [
    "To have a better view of the answer the output is saved as a csv file called *topten.csv*"
   ]
  },
  {
   "cell_type": "code",
   "execution_count": 16,
   "id": "0c062dba",
   "metadata": {},
   "outputs": [],
   "source": [
    "ans.to_csv('topten.csv')"
   ]
  },
  {
   "cell_type": "markdown",
   "id": "3cd47ae0",
   "metadata": {},
   "source": [
    "## Interesting fact\n",
    "\n",
    "One of the things that is of general interest is the price of fruits and legumes, with this premise, a question araise, which state has the lowest price on average for this kind of products?, to answer this, three columns of the data set will be used, **catalogo**, **precio** and **estado**"
   ]
  },
  {
   "cell_type": "code",
   "execution_count": 17,
   "id": "13776665",
   "metadata": {},
   "outputs": [],
   "source": [
    "df = pd.read_csv('data/all-data.csv', dtype = {'estado': 'category', 'catalogo':'category'}, usecols = ['catalogo', 'precio', 'estado'], skiprows = bad_indx)"
   ]
  },
  {
   "cell_type": "markdown",
   "id": "07190345",
   "metadata": {},
   "source": [
    "A new data frame called **fruits** will be defined, it will only contain the rows that have *FRUTAS Y LEGUMBRES* as value on the column **catalogo**"
   ]
  },
  {
   "cell_type": "code",
   "execution_count": 18,
   "id": "1273c6f9",
   "metadata": {},
   "outputs": [],
   "source": [
    "fruits = df[df['catalogo']== 'FRUTAS Y LEGUMBRES'].dropna()"
   ]
  },
  {
   "cell_type": "markdown",
   "id": "0c78ef14",
   "metadata": {},
   "source": [
    "This new data frame is first grouped by state, the average price for all products is calculated and at the end the result is sorted."
   ]
  },
  {
   "cell_type": "code",
   "execution_count": 19,
   "id": "5f91ce8b",
   "metadata": {},
   "outputs": [
    {
     "data": {
      "text/html": [
       "<div>\n",
       "<style scoped>\n",
       "    .dataframe tbody tr th:only-of-type {\n",
       "        vertical-align: middle;\n",
       "    }\n",
       "\n",
       "    .dataframe tbody tr th {\n",
       "        vertical-align: top;\n",
       "    }\n",
       "\n",
       "    .dataframe thead th {\n",
       "        text-align: right;\n",
       "    }\n",
       "</style>\n",
       "<table border=\"1\" class=\"dataframe\">\n",
       "  <thead>\n",
       "    <tr style=\"text-align: right;\">\n",
       "      <th></th>\n",
       "      <th>precio</th>\n",
       "    </tr>\n",
       "    <tr>\n",
       "      <th>estado</th>\n",
       "      <th></th>\n",
       "    </tr>\n",
       "  </thead>\n",
       "  <tbody>\n",
       "    <tr>\n",
       "      <th>MICHOACÁN DE OCAMPO</th>\n",
       "      <td>19.504049</td>\n",
       "    </tr>\n",
       "    <tr>\n",
       "      <th>TLAXCALA</th>\n",
       "      <td>19.867144</td>\n",
       "    </tr>\n",
       "    <tr>\n",
       "      <th>HIDALGO</th>\n",
       "      <td>20.283334</td>\n",
       "    </tr>\n",
       "    <tr>\n",
       "      <th>MÉXICO</th>\n",
       "      <td>21.068735</td>\n",
       "    </tr>\n",
       "    <tr>\n",
       "      <th>OAXACA</th>\n",
       "      <td>21.313826</td>\n",
       "    </tr>\n",
       "  </tbody>\n",
       "</table>\n",
       "</div>"
      ],
      "text/plain": [
       "                        precio\n",
       "estado                        \n",
       "MICHOACÁN DE OCAMPO  19.504049\n",
       "TLAXCALA             19.867144\n",
       "HIDALGO              20.283334\n",
       "MÉXICO               21.068735\n",
       "OAXACA               21.313826"
      ]
     },
     "execution_count": 19,
     "metadata": {},
     "output_type": "execute_result"
    }
   ],
   "source": [
    "prices = fruits.groupby('estado').mean().sort_values('precio')\n",
    "prices.head(5)"
   ]
  },
  {
   "cell_type": "markdown",
   "id": "8d164418",
   "metadata": {},
   "source": [
    "Using this data, a plot can be made to see more easily the states that have the lower and higher prices"
   ]
  },
  {
   "cell_type": "code",
   "execution_count": 21,
   "id": "57e66266",
   "metadata": {},
   "outputs": [
    {
     "data": {
      "text/plain": [
       "<AxesSubplot:xlabel='estado'>"
      ]
     },
     "execution_count": 21,
     "metadata": {},
     "output_type": "execute_result"
    },
    {
     "data": {
      "image/png": "[encoded data removed]",
      "text/plain": [
       "<Figure size 432x288 with 1 Axes>"
      ]
     },
     "metadata": {
      "needs_background": "light"
     },
     "output_type": "display_data"
    }
   ],
   "source": [
    "prices.sort_values('precio').plot.bar()"
   ]
  },
  {
   "cell_type": "markdown",
   "id": "6b2cb260",
   "metadata": {},
   "source": [
    "The interesting fact found is that, according to the data, the states with the highest average price are mainly the ones in the north of the country, my hypothesis is that this kinds of products are produced and harvested on the center and south part of the country, this will imply that they need to be shipped to the north states carrying an extra fee because of that."
   ]
  },
  {
   "cell_type": "code",
   "execution_count": null,
   "id": "b66ac367",
   "metadata": {},
   "outputs": [],
   "source": []
  }
 ],
 "metadata": {
  "kernelspec": {
   "display_name": "Python 3 (ipykernel)",
   "language": "python",
   "name": "python3"
  },
  "language_info": {
   "codemirror_mode": {
    "name": "ipython",
    "version": 3
   },
   "file_extension": ".py",
   "mimetype": "text/x-python",
   "name": "python",
   "nbconvert_exporter": "python",
   "pygments_lexer": "ipython3",
   "version": "3.7.4"
  }
 },
 "nbformat": 4,
 "nbformat_minor": 5
}
